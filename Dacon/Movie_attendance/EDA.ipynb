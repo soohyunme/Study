{
 "cells": [
  {
   "cell_type": "markdown",
   "metadata": {},
   "source": [
    "# Library, Path, Data"
   ]
  },
  {
   "cell_type": "code",
   "execution_count": 2,
   "metadata": {},
   "outputs": [],
   "source": [
    "import pandas as pd\n",
    "import os, sys, shutil\n",
    "import matplotlib.pyplot as plt\n",
    "import seaborn as sns"
   ]
  },
  {
   "cell_type": "code",
   "execution_count": 3,
   "metadata": {},
   "outputs": [],
   "source": [
    "ROOT_DIR = './'\n",
    "DATA_ROOT_DIR = os.path.join(ROOT_DIR, 'Data')"
   ]
  },
  {
   "cell_type": "code",
   "execution_count": 4,
   "metadata": {},
   "outputs": [],
   "source": [
    "train = pd.read_csv(os.path.join(DATA_ROOT_DIR, 'movies_train.csv'))\n",
    "test = pd.read_csv(os.path.join(DATA_ROOT_DIR, 'movies_test.csv'))\n",
    "submission = pd.read_csv(os.path.join(DATA_ROOT_DIR, 'submission.csv'))"
   ]
  },
  {
   "cell_type": "markdown",
   "metadata": {},
   "source": [
    "# EDA"
   ]
  },
  {
   "cell_type": "code",
   "execution_count": 5,
   "metadata": {},
   "outputs": [
    {
     "data": {
      "text/plain": [
       "title               0\n",
       "distributor         0\n",
       "genre               0\n",
       "release_time        0\n",
       "time                0\n",
       "screening_rat       0\n",
       "director            0\n",
       "dir_prev_bfnum    330\n",
       "dir_prev_num        0\n",
       "num_staff           0\n",
       "num_actor           0\n",
       "box_off_num         0\n",
       "dtype: int64"
      ]
     },
     "execution_count": 5,
     "metadata": {},
     "output_type": "execute_result"
    }
   ],
   "source": [
    "train.isna().sum()"
   ]
  },
  {
   "cell_type": "markdown",
   "metadata": {},
   "source": [
    "dir_prev_bfnum has Nan"
   ]
  },
  {
   "cell_type": "code",
   "execution_count": 6,
   "metadata": {},
   "outputs": [],
   "source": [
    "numeric_col = [col for col in train.columns if train[col].dtype != object]\n",
    "categori_col = ['distributor', 'genre', 'screening_rat']"
   ]
  },
  {
   "cell_type": "code",
   "execution_count": 7,
   "metadata": {},
   "outputs": [
    {
     "data": {
      "text/html": [
       "<div>\n",
       "<style scoped>\n",
       "    .dataframe tbody tr th:only-of-type {\n",
       "        vertical-align: middle;\n",
       "    }\n",
       "\n",
       "    .dataframe tbody tr th {\n",
       "        vertical-align: top;\n",
       "    }\n",
       "\n",
       "    .dataframe thead th {\n",
       "        text-align: right;\n",
       "    }\n",
       "</style>\n",
       "<table border=\"1\" class=\"dataframe\">\n",
       "  <thead>\n",
       "    <tr style=\"text-align: right;\">\n",
       "      <th></th>\n",
       "      <th>time</th>\n",
       "      <th>dir_prev_bfnum</th>\n",
       "      <th>dir_prev_num</th>\n",
       "      <th>num_staff</th>\n",
       "      <th>num_actor</th>\n",
       "      <th>box_off_num</th>\n",
       "    </tr>\n",
       "  </thead>\n",
       "  <tbody>\n",
       "    <tr>\n",
       "      <th>count</th>\n",
       "      <td>600.000000</td>\n",
       "      <td>2.700000e+02</td>\n",
       "      <td>600.000000</td>\n",
       "      <td>600.000000</td>\n",
       "      <td>600.000000</td>\n",
       "      <td>6.000000e+02</td>\n",
       "    </tr>\n",
       "    <tr>\n",
       "      <th>mean</th>\n",
       "      <td>100.863333</td>\n",
       "      <td>1.050443e+06</td>\n",
       "      <td>0.876667</td>\n",
       "      <td>151.118333</td>\n",
       "      <td>3.706667</td>\n",
       "      <td>7.081818e+05</td>\n",
       "    </tr>\n",
       "    <tr>\n",
       "      <th>std</th>\n",
       "      <td>18.097528</td>\n",
       "      <td>1.791408e+06</td>\n",
       "      <td>1.183409</td>\n",
       "      <td>165.654671</td>\n",
       "      <td>2.446889</td>\n",
       "      <td>1.828006e+06</td>\n",
       "    </tr>\n",
       "    <tr>\n",
       "      <th>min</th>\n",
       "      <td>45.000000</td>\n",
       "      <td>1.000000e+00</td>\n",
       "      <td>0.000000</td>\n",
       "      <td>0.000000</td>\n",
       "      <td>0.000000</td>\n",
       "      <td>1.000000e+00</td>\n",
       "    </tr>\n",
       "    <tr>\n",
       "      <th>25%</th>\n",
       "      <td>89.000000</td>\n",
       "      <td>2.038000e+04</td>\n",
       "      <td>0.000000</td>\n",
       "      <td>17.000000</td>\n",
       "      <td>2.000000</td>\n",
       "      <td>1.297250e+03</td>\n",
       "    </tr>\n",
       "    <tr>\n",
       "      <th>50%</th>\n",
       "      <td>100.000000</td>\n",
       "      <td>4.784236e+05</td>\n",
       "      <td>0.000000</td>\n",
       "      <td>82.500000</td>\n",
       "      <td>3.000000</td>\n",
       "      <td>1.259100e+04</td>\n",
       "    </tr>\n",
       "    <tr>\n",
       "      <th>75%</th>\n",
       "      <td>114.000000</td>\n",
       "      <td>1.286569e+06</td>\n",
       "      <td>2.000000</td>\n",
       "      <td>264.000000</td>\n",
       "      <td>4.000000</td>\n",
       "      <td>4.798868e+05</td>\n",
       "    </tr>\n",
       "    <tr>\n",
       "      <th>max</th>\n",
       "      <td>180.000000</td>\n",
       "      <td>1.761531e+07</td>\n",
       "      <td>5.000000</td>\n",
       "      <td>869.000000</td>\n",
       "      <td>25.000000</td>\n",
       "      <td>1.426277e+07</td>\n",
       "    </tr>\n",
       "  </tbody>\n",
       "</table>\n",
       "</div>"
      ],
      "text/plain": [
       "             time  dir_prev_bfnum  dir_prev_num   num_staff   num_actor  \\\n",
       "count  600.000000    2.700000e+02    600.000000  600.000000  600.000000   \n",
       "mean   100.863333    1.050443e+06      0.876667  151.118333    3.706667   \n",
       "std     18.097528    1.791408e+06      1.183409  165.654671    2.446889   \n",
       "min     45.000000    1.000000e+00      0.000000    0.000000    0.000000   \n",
       "25%     89.000000    2.038000e+04      0.000000   17.000000    2.000000   \n",
       "50%    100.000000    4.784236e+05      0.000000   82.500000    3.000000   \n",
       "75%    114.000000    1.286569e+06      2.000000  264.000000    4.000000   \n",
       "max    180.000000    1.761531e+07      5.000000  869.000000   25.000000   \n",
       "\n",
       "        box_off_num  \n",
       "count  6.000000e+02  \n",
       "mean   7.081818e+05  \n",
       "std    1.828006e+06  \n",
       "min    1.000000e+00  \n",
       "25%    1.297250e+03  \n",
       "50%    1.259100e+04  \n",
       "75%    4.798868e+05  \n",
       "max    1.426277e+07  "
      ]
     },
     "execution_count": 7,
     "metadata": {},
     "output_type": "execute_result"
    }
   ],
   "source": [
    "train[numeric_col].describe()"
   ]
  },
  {
   "cell_type": "code",
   "execution_count": 8,
   "metadata": {},
   "outputs": [
    {
     "data": {
      "text/html": [
       "<div>\n",
       "<style scoped>\n",
       "    .dataframe tbody tr th:only-of-type {\n",
       "        vertical-align: middle;\n",
       "    }\n",
       "\n",
       "    .dataframe tbody tr th {\n",
       "        vertical-align: top;\n",
       "    }\n",
       "\n",
       "    .dataframe thead th {\n",
       "        text-align: right;\n",
       "    }\n",
       "</style>\n",
       "<table border=\"1\" class=\"dataframe\">\n",
       "  <thead>\n",
       "    <tr style=\"text-align: right;\">\n",
       "      <th></th>\n",
       "      <th>distributor</th>\n",
       "      <th>genre</th>\n",
       "      <th>screening_rat</th>\n",
       "    </tr>\n",
       "  </thead>\n",
       "  <tbody>\n",
       "    <tr>\n",
       "      <th>count</th>\n",
       "      <td>600</td>\n",
       "      <td>600</td>\n",
       "      <td>600</td>\n",
       "    </tr>\n",
       "    <tr>\n",
       "      <th>unique</th>\n",
       "      <td>169</td>\n",
       "      <td>12</td>\n",
       "      <td>4</td>\n",
       "    </tr>\n",
       "    <tr>\n",
       "      <th>top</th>\n",
       "      <td>CJ 엔터테인먼트</td>\n",
       "      <td>드라마</td>\n",
       "      <td>청소년 관람불가</td>\n",
       "    </tr>\n",
       "    <tr>\n",
       "      <th>freq</th>\n",
       "      <td>54</td>\n",
       "      <td>221</td>\n",
       "      <td>204</td>\n",
       "    </tr>\n",
       "  </tbody>\n",
       "</table>\n",
       "</div>"
      ],
      "text/plain": [
       "       distributor genre screening_rat\n",
       "count          600   600           600\n",
       "unique         169    12             4\n",
       "top      CJ 엔터테인먼트   드라마      청소년 관람불가\n",
       "freq            54   221           204"
      ]
     },
     "execution_count": 8,
     "metadata": {},
     "output_type": "execute_result"
    }
   ],
   "source": [
    "train[categori_col].describe()"
   ]
  },
  {
   "cell_type": "code",
   "execution_count": 10,
   "metadata": {},
   "outputs": [],
   "source": [
    "train['distributor'] = train['distributor'].apply(lambda x: x.replace('(주)','').replace(' ',''))\n",
    "train['distributor'] = train['distributor'].replace('리틀빅픽처스','리틀빅픽쳐스')\n",
    "train['distributor'] = train['distributor'].replace('마운틴픽처스','마운틴픽쳐스')\n",
    "train['distributor'] = train['distributor'].replace('스폰지','스폰지이엔티')\n",
    "train['distributor'] = train['distributor'].replace('KT','싸이더스')\n",
    "train['distributor'] = train['distributor'].replace('싸이더스FNH','싸이더스')\n",
    "train['distributor'] = train['distributor'].replace('조이앤시네마','조이앤컨텐츠그룹')\n",
    "train['distributor'] = train['distributor'].replace('케이알씨지','조이앤컨텐츠그룹')\n",
    "train['distributor'] = train['distributor'].replace('스크린조이','조이앤컨텐츠그룹')\n",
    "train['distributor'] = train['distributor'].replace('드림팩트엔터테인먼트','조이앤컨텐츠그룹')\n",
    "train['distributor'] = train['distributor'].replace('CJE&MPictures','CJ엔터테인먼트')\n",
    "train['distributor'] = train['distributor'].replace('CJE&M영화부문','CJ엔터테인먼트')\n",
    "train['distributor'] = train['distributor'].replace('CGV무비꼴라쥬','CGV아트하우스')"
   ]
  },
  {
   "cell_type": "code",
   "execution_count": 12,
   "metadata": {},
   "outputs": [],
   "source": [
    "test['distributor'] = test['distributor'].apply(lambda x: x.replace('(주)','').replace(' ',''))\n",
    "test['distributor'] = test['distributor'].replace('리틀빅픽처스','리틀빅픽쳐스')\n",
    "test['distributor'] = test['distributor'].replace('마운틴픽처스','마운틴픽쳐스')\n",
    "test['distributor'] = test['distributor'].replace('스폰지','스폰지이엔티')\n",
    "test['distributor'] = test['distributor'].replace('KT','싸이더스')\n",
    "test['distributor'] = test['distributor'].replace('싸이더스FNH','싸이더스')\n",
    "test['distributor'] = test['distributor'].replace('조이앤시네마','조이앤컨텐츠그룹')\n",
    "test['distributor'] = test['distributor'].replace('케이알씨지','조이앤컨텐츠그룹')\n",
    "test['distributor'] = test['distributor'].replace('스크린조이','조이앤컨텐츠그룹')\n",
    "test['distributor'] = test['distributor'].replace('드림팩트엔터테인먼트','조이앤컨텐츠그룹')\n",
    "test['distributor'] = test['distributor'].replace('CJE&MPictures','CJ엔터테인먼트')\n",
    "test['distributor'] = test['distributor'].replace('CJE&M영화부문','CJ엔터테인먼트')\n",
    "test['distributor'] = test['distributor'].replace('CGV무비꼴라쥬','CGV아트하우스')"
   ]
  },
  {
   "cell_type": "markdown",
   "metadata": {},
   "source": [
    "### Correlation"
   ]
  },
  {
   "cell_type": "code",
   "execution_count": 130,
   "metadata": {},
   "outputs": [
    {
     "data": {
      "text/plain": [
       "<AxesSubplot:>"
      ]
     },
     "execution_count": 130,
     "metadata": {},
     "output_type": "execute_result"
    },
    {
     "data": {
      "image/png": "[encoded data removed]",
      "text/plain": [
       "<Figure size 1080x1080 with 2 Axes>"
      ]
     },
     "metadata": {
      "needs_background": "light"
     },
     "output_type": "display_data"
    }
   ],
   "source": [
    "plt.figure(figsize=(15,15))\n",
    "sns.heatmap(data = train[numeric_col].corr(), annot=True, \n",
    "fmt = '.2f', linewidths=.5, cmap='Blues')"
   ]
  },
  {
   "cell_type": "code",
   "execution_count": 131,
   "metadata": {},
   "outputs": [
    {
     "data": {
      "image/png": "[encoded data removed]",
      "text/plain": [
       "<Figure size 1080x720 with 6 Axes>"
      ]
     },
     "metadata": {
      "needs_background": "light"
     },
     "output_type": "display_data"
    }
   ],
   "source": [
    "fig, axes = plt.subplots(2, 3, figsize=(15,10))\n",
    "\n",
    "for i, col in enumerate(numeric_col):\n",
    "    axes[i//3, i%3].set_title(col)\n",
    "    sns.boxplot(data=train[col], ax=axes[i//3, i%3])\n"
   ]
  },
  {
   "cell_type": "code",
   "execution_count": 132,
   "metadata": {},
   "outputs": [
    {
     "name": "stderr",
     "output_type": "stream",
     "text": [
      "C:\\Users\\kimsoohyun\\AppData\\Local\\Temp\\ipykernel_15276\\3475349099.py:1: UserWarning: Boolean Series key will be reindexed to match DataFrame index.\n",
      "  train[train['dir_prev_bfnum'].sort_values(ascending=False) > 1.e7]\n"
     ]
    },
    {
     "data": {
      "text/html": [
       "<div>\n",
       "<style scoped>\n",
       "    .dataframe tbody tr th:only-of-type {\n",
       "        vertical-align: middle;\n",
       "    }\n",
       "\n",
       "    .dataframe tbody tr th {\n",
       "        vertical-align: top;\n",
       "    }\n",
       "\n",
       "    .dataframe thead th {\n",
       "        text-align: right;\n",
       "    }\n",
       "</style>\n",
       "<table border=\"1\" class=\"dataframe\">\n",
       "  <thead>\n",
       "    <tr style=\"text-align: right;\">\n",
       "      <th></th>\n",
       "      <th>title</th>\n",
       "      <th>distributor</th>\n",
       "      <th>genre</th>\n",
       "      <th>release_time</th>\n",
       "      <th>time</th>\n",
       "      <th>screening_rat</th>\n",
       "      <th>director</th>\n",
       "      <th>dir_prev_bfnum</th>\n",
       "      <th>dir_prev_num</th>\n",
       "      <th>num_staff</th>\n",
       "      <th>num_actor</th>\n",
       "      <th>box_off_num</th>\n",
       "    </tr>\n",
       "  </thead>\n",
       "  <tbody>\n",
       "    <tr>\n",
       "      <th>338</th>\n",
       "      <td>타부 : 금지된 사랑</td>\n",
       "      <td>고구마공작소</td>\n",
       "      <td>멜로/로맨스</td>\n",
       "      <td>2015-09-03</td>\n",
       "      <td>78</td>\n",
       "      <td>청소년 관람불가</td>\n",
       "      <td>고구마</td>\n",
       "      <td>17615314.0</td>\n",
       "      <td>1</td>\n",
       "      <td>27</td>\n",
       "      <td>3</td>\n",
       "      <td>8</td>\n",
       "    </tr>\n",
       "  </tbody>\n",
       "</table>\n",
       "</div>"
      ],
      "text/plain": [
       "           title distributor   genre release_time  time screening_rat  \\\n",
       "338  타부 : 금지된 사랑      고구마공작소  멜로/로맨스   2015-09-03    78      청소년 관람불가   \n",
       "\n",
       "    director  dir_prev_bfnum  dir_prev_num  num_staff  num_actor  box_off_num  \n",
       "338      고구마      17615314.0             1         27          3            8  "
      ]
     },
     "execution_count": 132,
     "metadata": {},
     "output_type": "execute_result"
    }
   ],
   "source": [
    "train[train['dir_prev_bfnum'].sort_values(ascending=False) > 1.e7]"
   ]
  },
  {
   "cell_type": "code",
   "execution_count": 133,
   "metadata": {},
   "outputs": [
    {
     "name": "stderr",
     "output_type": "stream",
     "text": [
      "C:\\Users\\kimsoohyun\\AppData\\Local\\Temp\\ipykernel_15276\\3114437394.py:1: UserWarning: Boolean Series key will be reindexed to match DataFrame index.\n",
      "  train[train['num_actor'].sort_values(ascending=False) > 20]\n"
     ]
    },
    {
     "data": {
      "text/html": [
       "<div>\n",
       "<style scoped>\n",
       "    .dataframe tbody tr th:only-of-type {\n",
       "        vertical-align: middle;\n",
       "    }\n",
       "\n",
       "    .dataframe tbody tr th {\n",
       "        vertical-align: top;\n",
       "    }\n",
       "\n",
       "    .dataframe thead th {\n",
       "        text-align: right;\n",
       "    }\n",
       "</style>\n",
       "<table border=\"1\" class=\"dataframe\">\n",
       "  <thead>\n",
       "    <tr style=\"text-align: right;\">\n",
       "      <th></th>\n",
       "      <th>title</th>\n",
       "      <th>distributor</th>\n",
       "      <th>genre</th>\n",
       "      <th>release_time</th>\n",
       "      <th>time</th>\n",
       "      <th>screening_rat</th>\n",
       "      <th>director</th>\n",
       "      <th>dir_prev_bfnum</th>\n",
       "      <th>dir_prev_num</th>\n",
       "      <th>num_staff</th>\n",
       "      <th>num_actor</th>\n",
       "      <th>box_off_num</th>\n",
       "    </tr>\n",
       "  </thead>\n",
       "  <tbody>\n",
       "    <tr>\n",
       "      <th>80</th>\n",
       "      <td>바비</td>\n",
       "      <td>(주) 케이알씨지</td>\n",
       "      <td>드라마</td>\n",
       "      <td>2010-02-04</td>\n",
       "      <td>116</td>\n",
       "      <td>15세 관람가</td>\n",
       "      <td>에밀리오 에스테베즈</td>\n",
       "      <td>0.000000e+00</td>\n",
       "      <td>0</td>\n",
       "      <td>19</td>\n",
       "      <td>25</td>\n",
       "      <td>2821</td>\n",
       "    </tr>\n",
       "    <tr>\n",
       "      <th>486</th>\n",
       "      <td>뷰티 인사이드</td>\n",
       "      <td>(주)NEW</td>\n",
       "      <td>멜로/로맨스</td>\n",
       "      <td>2015-08-20</td>\n",
       "      <td>127</td>\n",
       "      <td>12세 관람가</td>\n",
       "      <td>백종열</td>\n",
       "      <td>4.210890e+06</td>\n",
       "      <td>3</td>\n",
       "      <td>572</td>\n",
       "      <td>22</td>\n",
       "      <td>2057896</td>\n",
       "    </tr>\n",
       "  </tbody>\n",
       "</table>\n",
       "</div>"
      ],
      "text/plain": [
       "       title distributor   genre release_time  time screening_rat    director  \\\n",
       "80        바비   (주) 케이알씨지     드라마   2010-02-04   116       15세 관람가  에밀리오 에스테베즈   \n",
       "486  뷰티 인사이드      (주)NEW  멜로/로맨스   2015-08-20   127       12세 관람가         백종열   \n",
       "\n",
       "     dir_prev_bfnum  dir_prev_num  num_staff  num_actor  box_off_num  \n",
       "80     0.000000e+00             0         19         25         2821  \n",
       "486    4.210890e+06             3        572         22      2057896  "
      ]
     },
     "execution_count": 133,
     "metadata": {},
     "output_type": "execute_result"
    }
   ],
   "source": [
    "train[train['num_actor'].sort_values(ascending=False) > 20]"
   ]
  },
  {
   "cell_type": "code",
   "execution_count": 134,
   "metadata": {},
   "outputs": [
    {
     "name": "stderr",
     "output_type": "stream",
     "text": [
      "C:\\Users\\kimsoohyun\\AppData\\Local\\Temp\\ipykernel_15276\\2106507219.py:1: UserWarning: Boolean Series key will be reindexed to match DataFrame index.\n",
      "  train[train['box_off_num'].sort_values(ascending=False) > 1.e7]\n"
     ]
    },
    {
     "data": {
      "text/html": [
       "<div>\n",
       "<style scoped>\n",
       "    .dataframe tbody tr th:only-of-type {\n",
       "        vertical-align: middle;\n",
       "    }\n",
       "\n",
       "    .dataframe tbody tr th {\n",
       "        vertical-align: top;\n",
       "    }\n",
       "\n",
       "    .dataframe thead th {\n",
       "        text-align: right;\n",
       "    }\n",
       "</style>\n",
       "<table border=\"1\" class=\"dataframe\">\n",
       "  <thead>\n",
       "    <tr style=\"text-align: right;\">\n",
       "      <th></th>\n",
       "      <th>title</th>\n",
       "      <th>distributor</th>\n",
       "      <th>genre</th>\n",
       "      <th>release_time</th>\n",
       "      <th>time</th>\n",
       "      <th>screening_rat</th>\n",
       "      <th>director</th>\n",
       "      <th>dir_prev_bfnum</th>\n",
       "      <th>dir_prev_num</th>\n",
       "      <th>num_staff</th>\n",
       "      <th>num_actor</th>\n",
       "      <th>box_off_num</th>\n",
       "    </tr>\n",
       "  </thead>\n",
       "  <tbody>\n",
       "    <tr>\n",
       "      <th>122</th>\n",
       "      <td>변호인</td>\n",
       "      <td>(주)NEW</td>\n",
       "      <td>드라마</td>\n",
       "      <td>2013-12-18</td>\n",
       "      <td>127</td>\n",
       "      <td>15세 관람가</td>\n",
       "      <td>양우석</td>\n",
       "      <td>0.000000e+00</td>\n",
       "      <td>0</td>\n",
       "      <td>311</td>\n",
       "      <td>5</td>\n",
       "      <td>11374879</td>\n",
       "    </tr>\n",
       "    <tr>\n",
       "      <th>362</th>\n",
       "      <td>도둑들</td>\n",
       "      <td>(주)쇼박스</td>\n",
       "      <td>느와르</td>\n",
       "      <td>2012-07-25</td>\n",
       "      <td>135</td>\n",
       "      <td>15세 관람가</td>\n",
       "      <td>최동훈</td>\n",
       "      <td>2.564692e+06</td>\n",
       "      <td>3</td>\n",
       "      <td>462</td>\n",
       "      <td>10</td>\n",
       "      <td>12983841</td>\n",
       "    </tr>\n",
       "    <tr>\n",
       "      <th>372</th>\n",
       "      <td>국제시장</td>\n",
       "      <td>CJ 엔터테인먼트</td>\n",
       "      <td>드라마</td>\n",
       "      <td>2014-12-17</td>\n",
       "      <td>126</td>\n",
       "      <td>12세 관람가</td>\n",
       "      <td>윤제균</td>\n",
       "      <td>0.000000e+00</td>\n",
       "      <td>0</td>\n",
       "      <td>869</td>\n",
       "      <td>4</td>\n",
       "      <td>14262766</td>\n",
       "    </tr>\n",
       "    <tr>\n",
       "      <th>460</th>\n",
       "      <td>광해, 왕이 된 남자</td>\n",
       "      <td>CJ 엔터테인먼트</td>\n",
       "      <td>드라마</td>\n",
       "      <td>2012-09-13</td>\n",
       "      <td>131</td>\n",
       "      <td>15세 관람가</td>\n",
       "      <td>추창민</td>\n",
       "      <td>1.552541e+06</td>\n",
       "      <td>2</td>\n",
       "      <td>402</td>\n",
       "      <td>3</td>\n",
       "      <td>12323595</td>\n",
       "    </tr>\n",
       "    <tr>\n",
       "      <th>498</th>\n",
       "      <td>암살</td>\n",
       "      <td>(주)쇼박스</td>\n",
       "      <td>액션</td>\n",
       "      <td>2015-07-22</td>\n",
       "      <td>139</td>\n",
       "      <td>15세 관람가</td>\n",
       "      <td>최동훈</td>\n",
       "      <td>5.169479e+06</td>\n",
       "      <td>4</td>\n",
       "      <td>628</td>\n",
       "      <td>3</td>\n",
       "      <td>12706663</td>\n",
       "    </tr>\n",
       "    <tr>\n",
       "      <th>530</th>\n",
       "      <td>7번방의 선물</td>\n",
       "      <td>(주)NEW</td>\n",
       "      <td>코미디</td>\n",
       "      <td>2013-01-23</td>\n",
       "      <td>127</td>\n",
       "      <td>15세 관람가</td>\n",
       "      <td>이환경</td>\n",
       "      <td>8.190495e+05</td>\n",
       "      <td>2</td>\n",
       "      <td>300</td>\n",
       "      <td>8</td>\n",
       "      <td>12811435</td>\n",
       "    </tr>\n",
       "  </tbody>\n",
       "</table>\n",
       "</div>"
      ],
      "text/plain": [
       "           title distributor genre release_time  time screening_rat director  \\\n",
       "122          변호인      (주)NEW   드라마   2013-12-18   127       15세 관람가      양우석   \n",
       "362          도둑들      (주)쇼박스   느와르   2012-07-25   135       15세 관람가      최동훈   \n",
       "372         국제시장   CJ 엔터테인먼트   드라마   2014-12-17   126       12세 관람가      윤제균   \n",
       "460  광해, 왕이 된 남자   CJ 엔터테인먼트   드라마   2012-09-13   131       15세 관람가      추창민   \n",
       "498           암살      (주)쇼박스    액션   2015-07-22   139       15세 관람가      최동훈   \n",
       "530      7번방의 선물      (주)NEW   코미디   2013-01-23   127       15세 관람가      이환경   \n",
       "\n",
       "     dir_prev_bfnum  dir_prev_num  num_staff  num_actor  box_off_num  \n",
       "122    0.000000e+00             0        311          5     11374879  \n",
       "362    2.564692e+06             3        462         10     12983841  \n",
       "372    0.000000e+00             0        869          4     14262766  \n",
       "460    1.552541e+06             2        402          3     12323595  \n",
       "498    5.169479e+06             4        628          3     12706663  \n",
       "530    8.190495e+05             2        300          8     12811435  "
      ]
     },
     "execution_count": 134,
     "metadata": {},
     "output_type": "execute_result"
    }
   ],
   "source": [
    "train[train['box_off_num'].sort_values(ascending=False) > 1.e7]"
   ]
  },
  {
   "cell_type": "code",
   "execution_count": null,
   "metadata": {},
   "outputs": [],
   "source": []
  }
 ],
 "metadata": {
  "kernelspec": {
   "display_name": "Python 3.8.8 ('base')",
   "language": "python",
   "name": "python3"
  },
  "language_info": {
   "codemirror_mode": {
    "name": "ipython",
    "version": 3
   },
   "file_extension": ".py",
   "mimetype": "text/x-python",
   "name": "python",
   "nbconvert_exporter": "python",
   "pygments_lexer": "ipython3",
   "version": "3.8.8"
  },
  "orig_nbformat": 4,
  "vscode": {
   "interpreter": {
    "hash": "c7f621388f1dcaf6bccd9bd3afdd538f1be3f6adf9f47877e2a06c0129c500ea"
   }
  }
 },
 "nbformat": 4,
 "nbformat_minor": 2
}
